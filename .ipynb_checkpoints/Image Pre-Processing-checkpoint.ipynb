{
 "cells": [
  {
   "cell_type": "markdown",
   "metadata": {},
   "source": [
    "# Image Pre-Processing\n"
   ]
  },
  {
   "cell_type": "code",
   "execution_count": 1,
   "metadata": {},
   "outputs": [
    {
     "data": {
      "text/plain": [
       "<function matplotlib.pyplot.show(*args, **kw)>"
      ]
     },
     "execution_count": 1,
     "metadata": {},
     "output_type": "execute_result"
    }
   ],
   "source": [
    "import numpy as np\n",
    "import cv2\n",
    "import matplotlib.pyplot as plt\n",
    "\n",
    "\n",
    "images = np.load('small_rld.npy')\n",
    "\n",
    "fig, ax = plt.subplots(10, 12, figsize=(10,10))\n",
    "\n",
    "count = 0\n",
    "for i in range(10):\n",
    "    for j in range(12):\n",
    "        ax[i][j].imshow(images[count])\n",
    "        count += 1\n",
    "\n",
    "fig2, ax2 = plt.subplots(1,1, figsize=(10,10))\n",
    "ax2.imshow(images[60])\n",
    "ax2.set_title('Example Image: 60, Brown Spot')\n",
    "\n",
    "plt.show\n",
    "        \n"
   ]
  },
  {
   "cell_type": "code",
   "execution_count": 43,
   "metadata": {
    "scrolled": true
   },
   "outputs": [
    {
     "name": "stdout",
     "output_type": "stream",
     "text": [
      "228864\n",
      "SHAPE\n",
      ":\n",
      "(120, 149, 512)\n",
      "uint8\n"
     ]
    },
    {
     "data": {
      "image/png": "[encoded data removed]",
      "text/plain": [
       "<Figure size 720x720 with 3 Axes>"
      ]
     },
     "metadata": {
      "needs_background": "light"
     },
     "output_type": "display_data"
    }
   ],
   "source": [
    "import numpy as np\n",
    "import cv2\n",
    "import matplotlib.pyplot as plt\n",
    "\n",
    "def BlackWhiteMask(images):\n",
    "    mask = []\n",
    "    \n",
    "    for img in images:\n",
    "        threshhold_val, maskimg = cv2.threshold(img,0,255,cv2.THRESH_BINARY_INV+cv2.THRESH_OTSU)\n",
    "        mask.append(maskimg)\n",
    "    mask = np.asarray(mask)\n",
    "    return mask\n",
    "\n",
    "def TestMethod(images):\n",
    "    print('SHAPE\\n:')\n",
    "    print(images.shape)\n",
    "    print(images.dtype)\n",
    "    \n",
    "\n",
    "def RGBtoBGRtoGRAY(images):\n",
    "    \n",
    "    BGR = []\n",
    "    \n",
    "    for img in images:\n",
    "        BGRimg = cv2.cvtColor(img, cv2.COLOR_RGB2BGR)\n",
    "        BGR.append(BGRimg)\n",
    "    \n",
    "    BGR = np.asarray(BGR)\n",
    "    print(BGR[0].size)\n",
    "    \n",
    "    gray = []\n",
    "    \n",
    "    for img in BGR:\n",
    "        grayimg = cv2.cvtColor(img, cv2.COLOR_BGR2GRAY)\n",
    "        gray.append(grayimg)\n",
    "    \n",
    "\n",
    "    gray = np.asarray(gray)\n",
    "    return gray\n",
    "    \n",
    "\n",
    "        \n",
    "\n",
    "\n",
    "def ContrastBrightness(images):\n",
    "        adjusted = np.array(images.shape, images.dtype)\n",
    "        \n",
    "        #CONTRAST\n",
    "        alpha = 1.7\n",
    "        #BRIGHTNESS\n",
    "        beta =10\n",
    "        \n",
    "        adjusted = cv2.addWeighted(images, alpha, np.ones(images.shape, images.dtype), beta, 0)\n",
    "        return adjusted\n",
    "                    \n",
    "\n",
    "def GBlur(images):\n",
    "    #Initializes empty array\n",
    "    gblur_images = []\n",
    "    \n",
    "    for image in images:\n",
    "        p_img = cv2.GaussianBlur(image, (9,9), 1)\n",
    "        gblur_images.append(p_img)\n",
    "        \n",
    "    gblur_images = np.asarray(gblur_images)\n",
    "    return gblur_images\n",
    "\n",
    "def Plot(images):\n",
    "    fig, ax = plt.subplots(3,1, figsize=(10,10))\n",
    "    ax[0].imshow(images[0])\n",
    "    ax[1].imshow(images[41])\n",
    "    ax[2].imshow(images[82])\n",
    "    plt.show(fig)\n",
    "    \n",
    "    #Dimensions for 3 Channel Color\n",
    "    #plot_images = images.reshape((10,12,149,512,3))\n",
    "    \n",
    "    #Dimensions for 1 Channel color (Gray)\n",
    "    #plot_images = images.reshape((10,12,149,512))\n",
    "    \n",
    "    #figall, axall = plt.subplots(10,12,figsize=(10,10))\n",
    "    \n",
    "    #for i in range(10):\n",
    "    #    for j in range(12):\n",
    "    #        axall[i][j].imshow(plot_images[i][j])\n",
    "    #plt.show(figall)\n",
    "    \n",
    "    \n",
    "def PreProcess(images):\n",
    "    proccesed_images = GBlur(images)\n",
    "    #print('Blur Data',blurred.shape)\n",
    "    \n",
    "    \n",
    "    \n",
    "    proccesed_images = ContrastBrightness(proccesed_images)\n",
    "    #print('BrightContrast Data',proccesed_images.shape)\n",
    "    \n",
    "    proccesed_images = RGBtoBGRtoGRAY(proccesed_images)\n",
    "    \n",
    "    proccesed_images = BlackWhiteMask(proccesed_images)\n",
    "    \n",
    "    return proccesed_images\n",
    "\n",
    "def main():\n",
    "    images = np.load('small_rld.npy')\n",
    "    #print(images.shape)\n",
    "    processed_images = PreProcess(images)\n",
    "    TestMethod(processed_images)\n",
    "    Plot(processed_images)\n",
    "\n",
    "\n",
    "main()\n"
   ]
  },
  {
   "cell_type": "code",
   "execution_count": null,
   "metadata": {},
   "outputs": [],
   "source": []
  },
  {
   "cell_type": "code",
   "execution_count": null,
   "metadata": {},
   "outputs": [],
   "source": []
  }
 ],
 "metadata": {
  "kernelspec": {
   "display_name": "Python 3",
   "language": "python",
   "name": "python3"
  }
 },
 "nbformat": 4,
 "nbformat_minor": 2
}
